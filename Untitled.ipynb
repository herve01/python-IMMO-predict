{
 "cells": [
  {
   "cell_type": "markdown",
   "id": "765defd9",
   "metadata": {},
   "source": [
    "# Projet de mémoire basé sur la prédiction de prix de biens Immobilier"
   ]
  },
  {
   "cell_type": "markdown",
   "id": "a0bb6133",
   "metadata": {},
   "source": [
    "### Importation de libraries"
   ]
  },
  {
   "cell_type": "code",
   "execution_count": 1,
   "id": "6aaed069",
   "metadata": {},
   "outputs": [],
   "source": [
    "import numpy as np\n",
    "import pandas as pd\n",
    "\n",
    "import seaborn as sns\n",
    "import matplotlib.pyplot as plt\n",
    "\n",
    "from sklearn.model_selection import train_test_split\n",
    "\n",
    "from sklearn.impute import SimpleImputer\n",
    "from sklearn.preprocessing import LabelEncoder\n",
    "from sklearn.preprocessing import OrdinalEncoder\n",
    "\n",
    "from sklearn.linear_model import LinearRegression\n",
    "import sklearn.metrics as metrics\n",
    "from sklearn import tree"
   ]
  },
  {
   "cell_type": "markdown",
   "id": "7296fe53",
   "metadata": {},
   "source": [
    "## Chargement de données"
   ]
  },
  {
   "cell_type": "code",
   "execution_count": 2,
   "id": "8390793f",
   "metadata": {},
   "outputs": [],
   "source": [
    "df = pd.read_excel('data/prix_biens_immobilier_kinshasa.xlsx', header=0)\n",
    "df.dropna(inplace=True)"
   ]
  },
  {
   "cell_type": "code",
   "execution_count": 3,
   "id": "9e4fa343",
   "metadata": {},
   "outputs": [
    {
     "data": {
      "text/html": [
       "<div>\n",
       "<style scoped>\n",
       "    .dataframe tbody tr th:only-of-type {\n",
       "        vertical-align: middle;\n",
       "    }\n",
       "\n",
       "    .dataframe tbody tr th {\n",
       "        vertical-align: top;\n",
       "    }\n",
       "\n",
       "    .dataframe thead th {\n",
       "        text-align: right;\n",
       "    }\n",
       "</style>\n",
       "<table border=\"1\" class=\"dataframe\">\n",
       "  <thead>\n",
       "    <tr style=\"text-align: right;\">\n",
       "      <th></th>\n",
       "      <th>COMMUNE</th>\n",
       "      <th>QUARTIER</th>\n",
       "      <th>LONGEUR (m)</th>\n",
       "      <th>LARGEUR (m)</th>\n",
       "      <th>ELECTRICITE</th>\n",
       "      <th>EAU</th>\n",
       "      <th>TYPE TERRAIN</th>\n",
       "      <th>NOMBRE MAISONS</th>\n",
       "      <th>TYPE SOL</th>\n",
       "      <th>ROUTE</th>\n",
       "      <th>PRIX DE VENTE ($)</th>\n",
       "    </tr>\n",
       "  </thead>\n",
       "  <tbody>\n",
       "    <tr>\n",
       "      <th>0</th>\n",
       "      <td>Mont Ngafula</td>\n",
       "      <td>Mazamba</td>\n",
       "      <td>12</td>\n",
       "      <td>25</td>\n",
       "      <td>Oui</td>\n",
       "      <td>Non</td>\n",
       "      <td>Construit</td>\n",
       "      <td>1.0</td>\n",
       "      <td>Sable</td>\n",
       "      <td>Oui</td>\n",
       "      <td>50000</td>\n",
       "    </tr>\n",
       "    <tr>\n",
       "      <th>1</th>\n",
       "      <td>Mont Ngafula</td>\n",
       "      <td>CPA Mushi</td>\n",
       "      <td>10</td>\n",
       "      <td>15</td>\n",
       "      <td>Oui</td>\n",
       "      <td>Oui</td>\n",
       "      <td>Construit</td>\n",
       "      <td>1.0</td>\n",
       "      <td>Sable</td>\n",
       "      <td>Oui</td>\n",
       "      <td>23000</td>\n",
       "    </tr>\n",
       "    <tr>\n",
       "      <th>2</th>\n",
       "      <td>Mont Ngafula</td>\n",
       "      <td>Kimbondo</td>\n",
       "      <td>15</td>\n",
       "      <td>15</td>\n",
       "      <td>Oui</td>\n",
       "      <td>Oui</td>\n",
       "      <td>Construit</td>\n",
       "      <td>1.0</td>\n",
       "      <td>Sable</td>\n",
       "      <td>Oui</td>\n",
       "      <td>55000</td>\n",
       "    </tr>\n",
       "    <tr>\n",
       "      <th>3</th>\n",
       "      <td>Mont Ngafula</td>\n",
       "      <td>Kimbuala</td>\n",
       "      <td>11</td>\n",
       "      <td>20</td>\n",
       "      <td>Non</td>\n",
       "      <td>Non</td>\n",
       "      <td>Non Construit</td>\n",
       "      <td>0.0</td>\n",
       "      <td>Sable</td>\n",
       "      <td>Oui</td>\n",
       "      <td>15000</td>\n",
       "    </tr>\n",
       "    <tr>\n",
       "      <th>4</th>\n",
       "      <td>Mont Ngafula</td>\n",
       "      <td>Bianda</td>\n",
       "      <td>20</td>\n",
       "      <td>10</td>\n",
       "      <td>Non</td>\n",
       "      <td>Non</td>\n",
       "      <td>Construit</td>\n",
       "      <td>1.0</td>\n",
       "      <td>Sable</td>\n",
       "      <td>Non</td>\n",
       "      <td>30000</td>\n",
       "    </tr>\n",
       "    <tr>\n",
       "      <th>5</th>\n",
       "      <td>Mont Ngafula</td>\n",
       "      <td>Mbudi</td>\n",
       "      <td>10</td>\n",
       "      <td>11</td>\n",
       "      <td>Oui</td>\n",
       "      <td>Oui</td>\n",
       "      <td>Construit</td>\n",
       "      <td>1.0</td>\n",
       "      <td>Sable</td>\n",
       "      <td>Oui</td>\n",
       "      <td>40000</td>\n",
       "    </tr>\n",
       "    <tr>\n",
       "      <th>6</th>\n",
       "      <td>Mont Ngafula</td>\n",
       "      <td>Telecom</td>\n",
       "      <td>15</td>\n",
       "      <td>16</td>\n",
       "      <td>Oui</td>\n",
       "      <td>Non</td>\n",
       "      <td>Construit</td>\n",
       "      <td>1.0</td>\n",
       "      <td>Sable</td>\n",
       "      <td>Oui</td>\n",
       "      <td>50000</td>\n",
       "    </tr>\n",
       "    <tr>\n",
       "      <th>7</th>\n",
       "      <td>Mont Ngafula</td>\n",
       "      <td>Mazal</td>\n",
       "      <td>13</td>\n",
       "      <td>14</td>\n",
       "      <td>Oui</td>\n",
       "      <td>Oui</td>\n",
       "      <td>Construit</td>\n",
       "      <td>1.0</td>\n",
       "      <td>Sable</td>\n",
       "      <td>Oui</td>\n",
       "      <td>70000</td>\n",
       "    </tr>\n",
       "    <tr>\n",
       "      <th>8</th>\n",
       "      <td>Mont Ngafula</td>\n",
       "      <td>Munongo</td>\n",
       "      <td>6</td>\n",
       "      <td>20</td>\n",
       "      <td>Non</td>\n",
       "      <td>Non</td>\n",
       "      <td>Non Construit</td>\n",
       "      <td>0.0</td>\n",
       "      <td>Sable</td>\n",
       "      <td>Oui</td>\n",
       "      <td>35000</td>\n",
       "    </tr>\n",
       "    <tr>\n",
       "      <th>9</th>\n",
       "      <td>Mont Ngafula</td>\n",
       "      <td>Kimwenza</td>\n",
       "      <td>20</td>\n",
       "      <td>20</td>\n",
       "      <td>Non</td>\n",
       "      <td>Non</td>\n",
       "      <td>Non Construit</td>\n",
       "      <td>0.0</td>\n",
       "      <td>Sable</td>\n",
       "      <td>Oui</td>\n",
       "      <td>3000</td>\n",
       "    </tr>\n",
       "  </tbody>\n",
       "</table>\n",
       "</div>"
      ],
      "text/plain": [
       "        COMMUNE   QUARTIER  LONGEUR (m)  LARGEUR (m) ELECTRICITE  EAU  \\\n",
       "0  Mont Ngafula    Mazamba           12           25         Oui  Non   \n",
       "1  Mont Ngafula  CPA Mushi           10           15         Oui  Oui   \n",
       "2  Mont Ngafula   Kimbondo           15           15         Oui  Oui   \n",
       "3  Mont Ngafula   Kimbuala           11           20         Non  Non   \n",
       "4  Mont Ngafula     Bianda           20           10         Non  Non   \n",
       "5  Mont Ngafula      Mbudi           10           11         Oui  Oui   \n",
       "6  Mont Ngafula    Telecom           15           16         Oui  Non   \n",
       "7  Mont Ngafula      Mazal           13           14         Oui  Oui   \n",
       "8  Mont Ngafula    Munongo            6           20         Non  Non   \n",
       "9  Mont Ngafula   Kimwenza           20           20         Non  Non   \n",
       "\n",
       "    TYPE TERRAIN  NOMBRE MAISONS TYPE SOL ROUTE  PRIX DE VENTE ($)  \n",
       "0      Construit             1.0    Sable   Oui              50000  \n",
       "1      Construit             1.0    Sable   Oui              23000  \n",
       "2      Construit             1.0    Sable   Oui              55000  \n",
       "3  Non Construit             0.0    Sable   Oui              15000  \n",
       "4      Construit             1.0    Sable   Non              30000  \n",
       "5      Construit             1.0    Sable   Oui              40000  \n",
       "6      Construit             1.0    Sable   Oui              50000  \n",
       "7      Construit             1.0    Sable   Oui              70000  \n",
       "8  Non Construit             0.0    Sable   Oui              35000  \n",
       "9  Non Construit             0.0    Sable   Oui               3000  "
      ]
     },
     "execution_count": 3,
     "metadata": {},
     "output_type": "execute_result"
    }
   ],
   "source": [
    "df.head(10)"
   ]
  },
  {
   "cell_type": "code",
   "execution_count": 4,
   "id": "3622fb2a",
   "metadata": {},
   "outputs": [
    {
     "name": "stdout",
     "output_type": "stream",
     "text": [
      "<class 'pandas.core.frame.DataFrame'>\n",
      "Index: 5291 entries, 0 to 5297\n",
      "Data columns (total 11 columns):\n",
      " #   Column             Non-Null Count  Dtype  \n",
      "---  ------             --------------  -----  \n",
      " 0   COMMUNE            5291 non-null   object \n",
      " 1   QUARTIER           5291 non-null   object \n",
      " 2   LONGEUR (m)        5291 non-null   int64  \n",
      " 3   LARGEUR (m)        5291 non-null   int64  \n",
      " 4   ELECTRICITE        5291 non-null   object \n",
      " 5   EAU                5291 non-null   object \n",
      " 6   TYPE TERRAIN       5291 non-null   object \n",
      " 7   NOMBRE MAISONS     5291 non-null   float64\n",
      " 8   TYPE SOL           5291 non-null   object \n",
      " 9   ROUTE              5291 non-null   object \n",
      " 10  PRIX DE VENTE ($)  5291 non-null   int64  \n",
      "dtypes: float64(1), int64(3), object(7)\n",
      "memory usage: 496.0+ KB\n"
     ]
    }
   ],
   "source": [
    "df.info()"
   ]
  },
  {
   "cell_type": "markdown",
   "id": "4e58514e",
   "metadata": {},
   "source": [
    "## Sélection des variables\n",
    "\n",
    "Pour séléctionner les variables, nous ne venons pas séléctionner celle qui comporte beaucoup\n",
    "des valeurs manquantes."
   ]
  },
  {
   "cell_type": "code",
   "execution_count": 5,
   "id": "6ff70e9e",
   "metadata": {},
   "outputs": [
    {
     "name": "stdout",
     "output_type": "stream",
     "text": [
      "\n",
      "Nombre de valeurs nulles :\n",
      " COMMUNE              0\n",
      "QUARTIER             0\n",
      "LONGEUR (m)          0\n",
      "LARGEUR (m)          0\n",
      "ELECTRICITE          0\n",
      "EAU                  0\n",
      "TYPE TERRAIN         0\n",
      "NOMBRE MAISONS       0\n",
      "TYPE SOL             0\n",
      "ROUTE                0\n",
      "PRIX DE VENTE ($)    0\n",
      "dtype: int64\n"
     ]
    }
   ],
   "source": [
    "print(\"\\nNombre de valeurs nulles :\\n\",df.isnull().sum())"
   ]
  },
  {
   "cell_type": "markdown",
   "id": "2367f724",
   "metadata": {},
   "source": [
    "Etant donner que les variables ne comportent pas les valeurs manquantes, séléctionnons toutes les variables"
   ]
  },
  {
   "cell_type": "code",
   "execution_count": 6,
   "id": "f69a2850",
   "metadata": {},
   "outputs": [
    {
     "name": "stdout",
     "output_type": "stream",
     "text": [
      "Nombre de variables : 11\n"
     ]
    }
   ],
   "source": [
    "print(\"Nombre de variables :\",df.shape[1])"
   ]
  },
  {
   "cell_type": "code",
   "execution_count": 7,
   "id": "f8b717af",
   "metadata": {},
   "outputs": [],
   "source": [
    "variables = list(df.columns[:-1])\n",
    "\n",
    "variables_numerique = list(df[variables]._get_numeric_data().columns)\n",
    "\n",
    "variables_categorielles = df[variables].select_dtypes(include=[\"object\"]).columns.tolist()"
   ]
  },
  {
   "cell_type": "code",
   "execution_count": 8,
   "id": "05eb8e6a",
   "metadata": {},
   "outputs": [
    {
     "data": {
      "text/plain": [
       "['COMMUNE',\n",
       " 'QUARTIER',\n",
       " 'LONGEUR (m)',\n",
       " 'LARGEUR (m)',\n",
       " 'ELECTRICITE',\n",
       " 'EAU',\n",
       " 'TYPE TERRAIN',\n",
       " 'NOMBRE MAISONS',\n",
       " 'TYPE SOL',\n",
       " 'ROUTE']"
      ]
     },
     "execution_count": 8,
     "metadata": {},
     "output_type": "execute_result"
    }
   ],
   "source": [
    "variables"
   ]
  },
  {
   "cell_type": "code",
   "execution_count": 9,
   "id": "2f8baa96",
   "metadata": {},
   "outputs": [
    {
     "data": {
      "text/plain": [
       "['LONGEUR (m)', 'LARGEUR (m)', 'NOMBRE MAISONS']"
      ]
     },
     "execution_count": 9,
     "metadata": {},
     "output_type": "execute_result"
    }
   ],
   "source": [
    "variables_numerique"
   ]
  },
  {
   "cell_type": "code",
   "execution_count": 10,
   "id": "cdaf222f",
   "metadata": {},
   "outputs": [
    {
     "data": {
      "text/plain": [
       "['COMMUNE',\n",
       " 'QUARTIER',\n",
       " 'ELECTRICITE',\n",
       " 'EAU',\n",
       " 'TYPE TERRAIN',\n",
       " 'TYPE SOL',\n",
       " 'ROUTE']"
      ]
     },
     "execution_count": 10,
     "metadata": {},
     "output_type": "execute_result"
    }
   ],
   "source": [
    "variables_categorielles"
   ]
  },
  {
   "cell_type": "markdown",
   "id": "8fddc2ad",
   "metadata": {},
   "source": [
    "## Analyse de correlation entre les variables"
   ]
  },
  {
   "cell_type": "code",
   "execution_count": 11,
   "id": "b4a60fff",
   "metadata": {},
   "outputs": [
    {
     "data": {
      "text/html": [
       "<div>\n",
       "<style scoped>\n",
       "    .dataframe tbody tr th:only-of-type {\n",
       "        vertical-align: middle;\n",
       "    }\n",
       "\n",
       "    .dataframe tbody tr th {\n",
       "        vertical-align: top;\n",
       "    }\n",
       "\n",
       "    .dataframe thead th {\n",
       "        text-align: right;\n",
       "    }\n",
       "</style>\n",
       "<table border=\"1\" class=\"dataframe\">\n",
       "  <thead>\n",
       "    <tr style=\"text-align: right;\">\n",
       "      <th></th>\n",
       "      <th>LONGEUR (m)</th>\n",
       "      <th>LARGEUR (m)</th>\n",
       "      <th>NOMBRE MAISONS</th>\n",
       "    </tr>\n",
       "  </thead>\n",
       "  <tbody>\n",
       "    <tr>\n",
       "      <th>LONGEUR (m)</th>\n",
       "      <td>1.000000</td>\n",
       "      <td>0.300511</td>\n",
       "      <td>0.046035</td>\n",
       "    </tr>\n",
       "    <tr>\n",
       "      <th>LARGEUR (m)</th>\n",
       "      <td>0.300511</td>\n",
       "      <td>1.000000</td>\n",
       "      <td>0.009185</td>\n",
       "    </tr>\n",
       "    <tr>\n",
       "      <th>NOMBRE MAISONS</th>\n",
       "      <td>0.046035</td>\n",
       "      <td>0.009185</td>\n",
       "      <td>1.000000</td>\n",
       "    </tr>\n",
       "  </tbody>\n",
       "</table>\n",
       "</div>"
      ],
      "text/plain": [
       "                LONGEUR (m)  LARGEUR (m)  NOMBRE MAISONS\n",
       "LONGEUR (m)        1.000000     0.300511        0.046035\n",
       "LARGEUR (m)        0.300511     1.000000        0.009185\n",
       "NOMBRE MAISONS     0.046035     0.009185        1.000000"
      ]
     },
     "execution_count": 11,
     "metadata": {},
     "output_type": "execute_result"
    }
   ],
   "source": [
    "df[variables_numerique].corr(method='spearman')"
   ]
  },
  {
   "cell_type": "code",
   "execution_count": 12,
   "id": "7909221a",
   "metadata": {},
   "outputs": [],
   "source": [
    "#sns.heatmap(df.corr(),annot=True,lw=1)"
   ]
  },
  {
   "cell_type": "markdown",
   "id": "d76ffd9e",
   "metadata": {},
   "source": [
    "# Codification des variables qualitatives"
   ]
  },
  {
   "cell_type": "code",
   "execution_count": 13,
   "id": "ae7b7640",
   "metadata": {},
   "outputs": [],
   "source": [
    "def codification(df):\n",
    "    \n",
    "    #Instanciation du transformeur\n",
    "    #ordinal_encoder = OrdinalEncoder()\n",
    "    df_codif = df[variables].copy()\n",
    "        \n",
    "    #df_codif[variables_categorielles] = ordinal_encoder.fit_transform(df_codif[variables_categorielles])\n",
    "    df_codif = pd.get_dummies(data=df_codif, drop_first=True)\n",
    "    \n",
    "    return df_codif"
   ]
  },
  {
   "cell_type": "code",
   "execution_count": 14,
   "id": "ac9cff4f",
   "metadata": {},
   "outputs": [],
   "source": [
    "df_codif = codification(df)"
   ]
  },
  {
   "cell_type": "code",
   "execution_count": 15,
   "id": "aadadf03",
   "metadata": {},
   "outputs": [
    {
     "data": {
      "text/html": [
       "<div>\n",
       "<style scoped>\n",
       "    .dataframe tbody tr th:only-of-type {\n",
       "        vertical-align: middle;\n",
       "    }\n",
       "\n",
       "    .dataframe tbody tr th {\n",
       "        vertical-align: top;\n",
       "    }\n",
       "\n",
       "    .dataframe thead th {\n",
       "        text-align: right;\n",
       "    }\n",
       "</style>\n",
       "<table border=\"1\" class=\"dataframe\">\n",
       "  <thead>\n",
       "    <tr style=\"text-align: right;\">\n",
       "      <th></th>\n",
       "      <th>LONGEUR (m)</th>\n",
       "      <th>LARGEUR (m)</th>\n",
       "      <th>NOMBRE MAISONS</th>\n",
       "      <th>COMMUNE_Kalamu</th>\n",
       "      <th>COMMUNE_Kintambo</th>\n",
       "      <th>COMMUNE_Lemba</th>\n",
       "      <th>COMMUNE_Masina</th>\n",
       "      <th>COMMUNE_Mont Ngafula</th>\n",
       "      <th>COMMUNE_Ngaliema</th>\n",
       "      <th>QUARTIER_ Maman Mobutu</th>\n",
       "      <th>...</th>\n",
       "      <th>QUARTIER_Pigeon</th>\n",
       "      <th>QUARTIER_Super</th>\n",
       "      <th>QUARTIER_Telecom</th>\n",
       "      <th>QUARTIER_Terminus</th>\n",
       "      <th>QUARTIER_UPN</th>\n",
       "      <th>ELECTRICITE_Oui</th>\n",
       "      <th>EAU_Oui</th>\n",
       "      <th>TYPE TERRAIN_Non Construit</th>\n",
       "      <th>TYPE SOL_Sable</th>\n",
       "      <th>ROUTE_Oui</th>\n",
       "    </tr>\n",
       "  </thead>\n",
       "  <tbody>\n",
       "    <tr>\n",
       "      <th>0</th>\n",
       "      <td>12</td>\n",
       "      <td>25</td>\n",
       "      <td>1.0</td>\n",
       "      <td>False</td>\n",
       "      <td>False</td>\n",
       "      <td>False</td>\n",
       "      <td>False</td>\n",
       "      <td>True</td>\n",
       "      <td>False</td>\n",
       "      <td>False</td>\n",
       "      <td>...</td>\n",
       "      <td>False</td>\n",
       "      <td>False</td>\n",
       "      <td>False</td>\n",
       "      <td>False</td>\n",
       "      <td>False</td>\n",
       "      <td>True</td>\n",
       "      <td>False</td>\n",
       "      <td>False</td>\n",
       "      <td>True</td>\n",
       "      <td>True</td>\n",
       "    </tr>\n",
       "    <tr>\n",
       "      <th>1</th>\n",
       "      <td>10</td>\n",
       "      <td>15</td>\n",
       "      <td>1.0</td>\n",
       "      <td>False</td>\n",
       "      <td>False</td>\n",
       "      <td>False</td>\n",
       "      <td>False</td>\n",
       "      <td>True</td>\n",
       "      <td>False</td>\n",
       "      <td>False</td>\n",
       "      <td>...</td>\n",
       "      <td>False</td>\n",
       "      <td>False</td>\n",
       "      <td>False</td>\n",
       "      <td>False</td>\n",
       "      <td>False</td>\n",
       "      <td>True</td>\n",
       "      <td>True</td>\n",
       "      <td>False</td>\n",
       "      <td>True</td>\n",
       "      <td>True</td>\n",
       "    </tr>\n",
       "    <tr>\n",
       "      <th>2</th>\n",
       "      <td>15</td>\n",
       "      <td>15</td>\n",
       "      <td>1.0</td>\n",
       "      <td>False</td>\n",
       "      <td>False</td>\n",
       "      <td>False</td>\n",
       "      <td>False</td>\n",
       "      <td>True</td>\n",
       "      <td>False</td>\n",
       "      <td>False</td>\n",
       "      <td>...</td>\n",
       "      <td>False</td>\n",
       "      <td>False</td>\n",
       "      <td>False</td>\n",
       "      <td>False</td>\n",
       "      <td>False</td>\n",
       "      <td>True</td>\n",
       "      <td>True</td>\n",
       "      <td>False</td>\n",
       "      <td>True</td>\n",
       "      <td>True</td>\n",
       "    </tr>\n",
       "    <tr>\n",
       "      <th>3</th>\n",
       "      <td>11</td>\n",
       "      <td>20</td>\n",
       "      <td>0.0</td>\n",
       "      <td>False</td>\n",
       "      <td>False</td>\n",
       "      <td>False</td>\n",
       "      <td>False</td>\n",
       "      <td>True</td>\n",
       "      <td>False</td>\n",
       "      <td>False</td>\n",
       "      <td>...</td>\n",
       "      <td>False</td>\n",
       "      <td>False</td>\n",
       "      <td>False</td>\n",
       "      <td>False</td>\n",
       "      <td>False</td>\n",
       "      <td>False</td>\n",
       "      <td>False</td>\n",
       "      <td>True</td>\n",
       "      <td>True</td>\n",
       "      <td>True</td>\n",
       "    </tr>\n",
       "    <tr>\n",
       "      <th>4</th>\n",
       "      <td>20</td>\n",
       "      <td>10</td>\n",
       "      <td>1.0</td>\n",
       "      <td>False</td>\n",
       "      <td>False</td>\n",
       "      <td>False</td>\n",
       "      <td>False</td>\n",
       "      <td>True</td>\n",
       "      <td>False</td>\n",
       "      <td>False</td>\n",
       "      <td>...</td>\n",
       "      <td>False</td>\n",
       "      <td>False</td>\n",
       "      <td>False</td>\n",
       "      <td>False</td>\n",
       "      <td>False</td>\n",
       "      <td>False</td>\n",
       "      <td>False</td>\n",
       "      <td>False</td>\n",
       "      <td>True</td>\n",
       "      <td>False</td>\n",
       "    </tr>\n",
       "  </tbody>\n",
       "</table>\n",
       "<p>5 rows × 49 columns</p>\n",
       "</div>"
      ],
      "text/plain": [
       "   LONGEUR (m)  LARGEUR (m)  NOMBRE MAISONS  COMMUNE_Kalamu  COMMUNE_Kintambo  \\\n",
       "0           12           25             1.0           False             False   \n",
       "1           10           15             1.0           False             False   \n",
       "2           15           15             1.0           False             False   \n",
       "3           11           20             0.0           False             False   \n",
       "4           20           10             1.0           False             False   \n",
       "\n",
       "   COMMUNE_Lemba  COMMUNE_Masina  COMMUNE_Mont Ngafula  COMMUNE_Ngaliema  \\\n",
       "0          False           False                  True             False   \n",
       "1          False           False                  True             False   \n",
       "2          False           False                  True             False   \n",
       "3          False           False                  True             False   \n",
       "4          False           False                  True             False   \n",
       "\n",
       "   QUARTIER_ Maman Mobutu  ...  QUARTIER_Pigeon  QUARTIER_Super  \\\n",
       "0                   False  ...            False           False   \n",
       "1                   False  ...            False           False   \n",
       "2                   False  ...            False           False   \n",
       "3                   False  ...            False           False   \n",
       "4                   False  ...            False           False   \n",
       "\n",
       "   QUARTIER_Telecom  QUARTIER_Terminus  QUARTIER_UPN  ELECTRICITE_Oui  \\\n",
       "0             False              False         False             True   \n",
       "1             False              False         False             True   \n",
       "2             False              False         False             True   \n",
       "3             False              False         False            False   \n",
       "4             False              False         False            False   \n",
       "\n",
       "   EAU_Oui  TYPE TERRAIN_Non Construit  TYPE SOL_Sable  ROUTE_Oui  \n",
       "0    False                       False            True       True  \n",
       "1     True                       False            True       True  \n",
       "2     True                       False            True       True  \n",
       "3    False                        True            True       True  \n",
       "4    False                       False            True      False  \n",
       "\n",
       "[5 rows x 49 columns]"
      ]
     },
     "execution_count": 15,
     "metadata": {},
     "output_type": "execute_result"
    }
   ],
   "source": [
    "df_codif.head()"
   ]
  },
  {
   "cell_type": "markdown",
   "id": "44f9e50d",
   "metadata": {},
   "source": [
    "# chargement Matrice X"
   ]
  },
  {
   "cell_type": "code",
   "execution_count": 16,
   "id": "8eac5dd2",
   "metadata": {},
   "outputs": [
    {
     "data": {
      "text/html": [
       "<div>\n",
       "<style scoped>\n",
       "    .dataframe tbody tr th:only-of-type {\n",
       "        vertical-align: middle;\n",
       "    }\n",
       "\n",
       "    .dataframe tbody tr th {\n",
       "        vertical-align: top;\n",
       "    }\n",
       "\n",
       "    .dataframe thead th {\n",
       "        text-align: right;\n",
       "    }\n",
       "</style>\n",
       "<table border=\"1\" class=\"dataframe\">\n",
       "  <thead>\n",
       "    <tr style=\"text-align: right;\">\n",
       "      <th></th>\n",
       "      <th>LONGEUR (m)</th>\n",
       "      <th>LARGEUR (m)</th>\n",
       "      <th>NOMBRE MAISONS</th>\n",
       "      <th>COMMUNE_Kalamu</th>\n",
       "      <th>COMMUNE_Kintambo</th>\n",
       "      <th>COMMUNE_Lemba</th>\n",
       "      <th>COMMUNE_Masina</th>\n",
       "      <th>COMMUNE_Mont Ngafula</th>\n",
       "      <th>COMMUNE_Ngaliema</th>\n",
       "      <th>QUARTIER_ Maman Mobutu</th>\n",
       "      <th>...</th>\n",
       "      <th>QUARTIER_Pigeon</th>\n",
       "      <th>QUARTIER_Super</th>\n",
       "      <th>QUARTIER_Telecom</th>\n",
       "      <th>QUARTIER_Terminus</th>\n",
       "      <th>QUARTIER_UPN</th>\n",
       "      <th>ELECTRICITE_Oui</th>\n",
       "      <th>EAU_Oui</th>\n",
       "      <th>TYPE TERRAIN_Non Construit</th>\n",
       "      <th>TYPE SOL_Sable</th>\n",
       "      <th>ROUTE_Oui</th>\n",
       "    </tr>\n",
       "  </thead>\n",
       "  <tbody>\n",
       "    <tr>\n",
       "      <th>0</th>\n",
       "      <td>12</td>\n",
       "      <td>25</td>\n",
       "      <td>1.0</td>\n",
       "      <td>False</td>\n",
       "      <td>False</td>\n",
       "      <td>False</td>\n",
       "      <td>False</td>\n",
       "      <td>True</td>\n",
       "      <td>False</td>\n",
       "      <td>False</td>\n",
       "      <td>...</td>\n",
       "      <td>False</td>\n",
       "      <td>False</td>\n",
       "      <td>False</td>\n",
       "      <td>False</td>\n",
       "      <td>False</td>\n",
       "      <td>True</td>\n",
       "      <td>False</td>\n",
       "      <td>False</td>\n",
       "      <td>True</td>\n",
       "      <td>True</td>\n",
       "    </tr>\n",
       "    <tr>\n",
       "      <th>1</th>\n",
       "      <td>10</td>\n",
       "      <td>15</td>\n",
       "      <td>1.0</td>\n",
       "      <td>False</td>\n",
       "      <td>False</td>\n",
       "      <td>False</td>\n",
       "      <td>False</td>\n",
       "      <td>True</td>\n",
       "      <td>False</td>\n",
       "      <td>False</td>\n",
       "      <td>...</td>\n",
       "      <td>False</td>\n",
       "      <td>False</td>\n",
       "      <td>False</td>\n",
       "      <td>False</td>\n",
       "      <td>False</td>\n",
       "      <td>True</td>\n",
       "      <td>True</td>\n",
       "      <td>False</td>\n",
       "      <td>True</td>\n",
       "      <td>True</td>\n",
       "    </tr>\n",
       "    <tr>\n",
       "      <th>2</th>\n",
       "      <td>15</td>\n",
       "      <td>15</td>\n",
       "      <td>1.0</td>\n",
       "      <td>False</td>\n",
       "      <td>False</td>\n",
       "      <td>False</td>\n",
       "      <td>False</td>\n",
       "      <td>True</td>\n",
       "      <td>False</td>\n",
       "      <td>False</td>\n",
       "      <td>...</td>\n",
       "      <td>False</td>\n",
       "      <td>False</td>\n",
       "      <td>False</td>\n",
       "      <td>False</td>\n",
       "      <td>False</td>\n",
       "      <td>True</td>\n",
       "      <td>True</td>\n",
       "      <td>False</td>\n",
       "      <td>True</td>\n",
       "      <td>True</td>\n",
       "    </tr>\n",
       "    <tr>\n",
       "      <th>3</th>\n",
       "      <td>11</td>\n",
       "      <td>20</td>\n",
       "      <td>0.0</td>\n",
       "      <td>False</td>\n",
       "      <td>False</td>\n",
       "      <td>False</td>\n",
       "      <td>False</td>\n",
       "      <td>True</td>\n",
       "      <td>False</td>\n",
       "      <td>False</td>\n",
       "      <td>...</td>\n",
       "      <td>False</td>\n",
       "      <td>False</td>\n",
       "      <td>False</td>\n",
       "      <td>False</td>\n",
       "      <td>False</td>\n",
       "      <td>False</td>\n",
       "      <td>False</td>\n",
       "      <td>True</td>\n",
       "      <td>True</td>\n",
       "      <td>True</td>\n",
       "    </tr>\n",
       "    <tr>\n",
       "      <th>4</th>\n",
       "      <td>20</td>\n",
       "      <td>10</td>\n",
       "      <td>1.0</td>\n",
       "      <td>False</td>\n",
       "      <td>False</td>\n",
       "      <td>False</td>\n",
       "      <td>False</td>\n",
       "      <td>True</td>\n",
       "      <td>False</td>\n",
       "      <td>False</td>\n",
       "      <td>...</td>\n",
       "      <td>False</td>\n",
       "      <td>False</td>\n",
       "      <td>False</td>\n",
       "      <td>False</td>\n",
       "      <td>False</td>\n",
       "      <td>False</td>\n",
       "      <td>False</td>\n",
       "      <td>False</td>\n",
       "      <td>True</td>\n",
       "      <td>False</td>\n",
       "    </tr>\n",
       "  </tbody>\n",
       "</table>\n",
       "<p>5 rows × 49 columns</p>\n",
       "</div>"
      ],
      "text/plain": [
       "   LONGEUR (m)  LARGEUR (m)  NOMBRE MAISONS  COMMUNE_Kalamu  COMMUNE_Kintambo  \\\n",
       "0           12           25             1.0           False             False   \n",
       "1           10           15             1.0           False             False   \n",
       "2           15           15             1.0           False             False   \n",
       "3           11           20             0.0           False             False   \n",
       "4           20           10             1.0           False             False   \n",
       "\n",
       "   COMMUNE_Lemba  COMMUNE_Masina  COMMUNE_Mont Ngafula  COMMUNE_Ngaliema  \\\n",
       "0          False           False                  True             False   \n",
       "1          False           False                  True             False   \n",
       "2          False           False                  True             False   \n",
       "3          False           False                  True             False   \n",
       "4          False           False                  True             False   \n",
       "\n",
       "   QUARTIER_ Maman Mobutu  ...  QUARTIER_Pigeon  QUARTIER_Super  \\\n",
       "0                   False  ...            False           False   \n",
       "1                   False  ...            False           False   \n",
       "2                   False  ...            False           False   \n",
       "3                   False  ...            False           False   \n",
       "4                   False  ...            False           False   \n",
       "\n",
       "   QUARTIER_Telecom  QUARTIER_Terminus  QUARTIER_UPN  ELECTRICITE_Oui  \\\n",
       "0             False              False         False             True   \n",
       "1             False              False         False             True   \n",
       "2             False              False         False             True   \n",
       "3             False              False         False            False   \n",
       "4             False              False         False            False   \n",
       "\n",
       "   EAU_Oui  TYPE TERRAIN_Non Construit  TYPE SOL_Sable  ROUTE_Oui  \n",
       "0    False                       False            True       True  \n",
       "1     True                       False            True       True  \n",
       "2     True                       False            True       True  \n",
       "3    False                        True            True       True  \n",
       "4    False                       False            True      False  \n",
       "\n",
       "[5 rows x 49 columns]"
      ]
     },
     "execution_count": 16,
     "metadata": {},
     "output_type": "execute_result"
    }
   ],
   "source": [
    "X = df_codif\n",
    "\n",
    "X.head()"
   ]
  },
  {
   "cell_type": "markdown",
   "id": "5ae98dca",
   "metadata": {},
   "source": [
    "# Analyse descriptive"
   ]
  },
  {
   "cell_type": "code",
   "execution_count": 17,
   "id": "c578b3e0",
   "metadata": {},
   "outputs": [
    {
     "data": {
      "text/html": [
       "<div>\n",
       "<style scoped>\n",
       "    .dataframe tbody tr th:only-of-type {\n",
       "        vertical-align: middle;\n",
       "    }\n",
       "\n",
       "    .dataframe tbody tr th {\n",
       "        vertical-align: top;\n",
       "    }\n",
       "\n",
       "    .dataframe thead th {\n",
       "        text-align: right;\n",
       "    }\n",
       "</style>\n",
       "<table border=\"1\" class=\"dataframe\">\n",
       "  <thead>\n",
       "    <tr style=\"text-align: right;\">\n",
       "      <th></th>\n",
       "      <th>LONGEUR (m)</th>\n",
       "      <th>LARGEUR (m)</th>\n",
       "      <th>NOMBRE MAISONS</th>\n",
       "    </tr>\n",
       "  </thead>\n",
       "  <tbody>\n",
       "    <tr>\n",
       "      <th>count</th>\n",
       "      <td>5291.000000</td>\n",
       "      <td>5291.000000</td>\n",
       "      <td>5291.000000</td>\n",
       "    </tr>\n",
       "    <tr>\n",
       "      <th>mean</th>\n",
       "      <td>15.920053</td>\n",
       "      <td>21.411453</td>\n",
       "      <td>0.907201</td>\n",
       "    </tr>\n",
       "    <tr>\n",
       "      <th>std</th>\n",
       "      <td>15.002868</td>\n",
       "      <td>10.743893</td>\n",
       "      <td>0.572435</td>\n",
       "    </tr>\n",
       "    <tr>\n",
       "      <th>min</th>\n",
       "      <td>5.000000</td>\n",
       "      <td>10.000000</td>\n",
       "      <td>0.000000</td>\n",
       "    </tr>\n",
       "    <tr>\n",
       "      <th>25%</th>\n",
       "      <td>10.000000</td>\n",
       "      <td>15.000000</td>\n",
       "      <td>1.000000</td>\n",
       "    </tr>\n",
       "    <tr>\n",
       "      <th>50%</th>\n",
       "      <td>12.000000</td>\n",
       "      <td>20.000000</td>\n",
       "      <td>1.000000</td>\n",
       "    </tr>\n",
       "    <tr>\n",
       "      <th>75%</th>\n",
       "      <td>18.000000</td>\n",
       "      <td>25.000000</td>\n",
       "      <td>1.000000</td>\n",
       "    </tr>\n",
       "    <tr>\n",
       "      <th>max</th>\n",
       "      <td>100.000000</td>\n",
       "      <td>80.000000</td>\n",
       "      <td>3.000000</td>\n",
       "    </tr>\n",
       "  </tbody>\n",
       "</table>\n",
       "</div>"
      ],
      "text/plain": [
       "       LONGEUR (m)  LARGEUR (m)  NOMBRE MAISONS\n",
       "count  5291.000000  5291.000000     5291.000000\n",
       "mean     15.920053    21.411453        0.907201\n",
       "std      15.002868    10.743893        0.572435\n",
       "min       5.000000    10.000000        0.000000\n",
       "25%      10.000000    15.000000        1.000000\n",
       "50%      12.000000    20.000000        1.000000\n",
       "75%      18.000000    25.000000        1.000000\n",
       "max     100.000000    80.000000        3.000000"
      ]
     },
     "execution_count": 17,
     "metadata": {},
     "output_type": "execute_result"
    }
   ],
   "source": [
    "X.describe()"
   ]
  },
  {
   "cell_type": "markdown",
   "id": "043a1a63",
   "metadata": {},
   "source": [
    "# chargement de vecteur classe y"
   ]
  },
  {
   "cell_type": "code",
   "execution_count": 18,
   "id": "633889cd",
   "metadata": {},
   "outputs": [
    {
     "data": {
      "text/plain": [
       "0    50000\n",
       "1    23000\n",
       "2    55000\n",
       "3    15000\n",
       "4    30000\n",
       "Name: PRIX DE VENTE ($), dtype: int64"
      ]
     },
     "execution_count": 18,
     "metadata": {},
     "output_type": "execute_result"
    }
   ],
   "source": [
    "y = df[df.columns[-1]]\n",
    "\n",
    "y.head()"
   ]
  },
  {
   "cell_type": "code",
   "execution_count": 19,
   "id": "e7e7f1bd",
   "metadata": {},
   "outputs": [
    {
     "data": {
      "text/plain": [
       "(array([4698.,  129.,    0.,    0.,    0.,  116.,    0.,  232.,    0.,\n",
       "         116.]),\n",
       " array([1.80000e+03, 3.51620e+05, 7.01440e+05, 1.05126e+06, 1.40108e+06,\n",
       "        1.75090e+06, 2.10072e+06, 2.45054e+06, 2.80036e+06, 3.15018e+06,\n",
       "        3.50000e+06]),\n",
       " <BarContainer object of 10 artists>)"
      ]
     },
     "execution_count": 19,
     "metadata": {},
     "output_type": "execute_result"
    },
    {
     "data": {
      "image/png": "[encoded data removed]",
      "text/plain": [
       "<Figure size 640x480 with 1 Axes>"
      ]
     },
     "metadata": {},
     "output_type": "display_data"
    }
   ],
   "source": [
    "plt.hist(y)"
   ]
  },
  {
   "cell_type": "markdown",
   "id": "e3e99cc8",
   "metadata": {},
   "source": [
    "# Normalisation et gestion de valeurs manquantes"
   ]
  },
  {
   "cell_type": "code",
   "execution_count": 20,
   "id": "05962da3",
   "metadata": {},
   "outputs": [],
   "source": [
    "def normalisation(data) :\n",
    "    imputer_model = SimpleImputer(missing_values=np.nan, strategy='mean')\n",
    "    imputer_model.fit(data)\n",
    "\n",
    "    data = imputer_model.transform(data)\n",
    "\n",
    "    return data"
   ]
  },
  {
   "cell_type": "code",
   "execution_count": 21,
   "id": "6713de40",
   "metadata": {},
   "outputs": [
    {
     "data": {
      "text/plain": [
       "array([[12., 25.,  1., ...,  0.,  1.,  1.],\n",
       "       [10., 15.,  1., ...,  0.,  1.,  1.],\n",
       "       [15., 15.,  1., ...,  0.,  1.,  1.],\n",
       "       ...,\n",
       "       [ 5., 20.,  1., ...,  0.,  1.,  1.],\n",
       "       [ 5., 11.,  1., ...,  0.,  1.,  1.],\n",
       "       [10., 25.,  1., ...,  0.,  1.,  1.]])"
      ]
     },
     "execution_count": 21,
     "metadata": {},
     "output_type": "execute_result"
    }
   ],
   "source": [
    "X = normalisation(X)\n",
    "\n",
    "X"
   ]
  },
  {
   "cell_type": "code",
   "execution_count": 22,
   "id": "7ad1eadb",
   "metadata": {},
   "outputs": [],
   "source": [
    "#for x in X:\n",
    "    #plt.hist(x)"
   ]
  },
  {
   "cell_type": "markdown",
   "id": "0f2f2373",
   "metadata": {},
   "source": [
    "### Segmentation de l'ensemble de données en sous-ensembles d'entraînement (training set) et de test (test set)\n",
    "Nous optons de faire une segmentation de l'ensemble de données en ensembles d'apprentissage et de test comprenant chacun repectivement <b>70%</b> et <b>30%</b> des données."
   ]
  },
  {
   "cell_type": "code",
   "execution_count": 23,
   "id": "07b615ff",
   "metadata": {},
   "outputs": [],
   "source": [
    "X_train, X_test, y_train, y_test = train_test_split(X, y, test_size=.2, random_state = 0)"
   ]
  },
  {
   "cell_type": "code",
   "execution_count": 24,
   "id": "4ee6959f",
   "metadata": {},
   "outputs": [
    {
     "name": "stdout",
     "output_type": "stream",
     "text": [
      "(4232, 49)\n",
      "(1059, 49)\n",
      "(4232,)\n",
      "(1059,)\n"
     ]
    }
   ],
   "source": [
    "print(X_train.shape)\n",
    "print(X_test.shape)\n",
    "print(y_train.shape)\n",
    "print(y_test.shape)"
   ]
  },
  {
   "cell_type": "markdown",
   "id": "5bdfd3b1",
   "metadata": {},
   "source": [
    "### Création du modèle de Regression multiple et entrainement"
   ]
  },
  {
   "cell_type": "code",
   "execution_count": 25,
   "id": "a20e49a2",
   "metadata": {},
   "outputs": [
    {
     "data": {
      "text/html": [
       "<style>#sk-container-id-1 {color: black;}#sk-container-id-1 pre{padding: 0;}#sk-container-id-1 div.sk-toggleable {background-color: white;}#sk-container-id-1 label.sk-toggleable__label {cursor: pointer;display: block;width: 100%;margin-bottom: 0;padding: 0.3em;box-sizing: border-box;text-align: center;}#sk-container-id-1 label.sk-toggleable__label-arrow:before {content: \"▸\";float: left;margin-right: 0.25em;color: #696969;}#sk-container-id-1 label.sk-toggleable__label-arrow:hover:before {color: black;}#sk-container-id-1 div.sk-estimator:hover label.sk-toggleable__label-arrow:before {color: black;}#sk-container-id-1 div.sk-toggleable__content {max-height: 0;max-width: 0;overflow: hidden;text-align: left;background-color: #f0f8ff;}#sk-container-id-1 div.sk-toggleable__content pre {margin: 0.2em;color: black;border-radius: 0.25em;background-color: #f0f8ff;}#sk-container-id-1 input.sk-toggleable__control:checked~div.sk-toggleable__content {max-height: 200px;max-width: 100%;overflow: auto;}#sk-container-id-1 input.sk-toggleable__control:checked~label.sk-toggleable__label-arrow:before {content: \"▾\";}#sk-container-id-1 div.sk-estimator input.sk-toggleable__control:checked~label.sk-toggleable__label {background-color: #d4ebff;}#sk-container-id-1 div.sk-label input.sk-toggleable__control:checked~label.sk-toggleable__label {background-color: #d4ebff;}#sk-container-id-1 input.sk-hidden--visually {border: 0;clip: rect(1px 1px 1px 1px);clip: rect(1px, 1px, 1px, 1px);height: 1px;margin: -1px;overflow: hidden;padding: 0;position: absolute;width: 1px;}#sk-container-id-1 div.sk-estimator {font-family: monospace;background-color: #f0f8ff;border: 1px dotted black;border-radius: 0.25em;box-sizing: border-box;margin-bottom: 0.5em;}#sk-container-id-1 div.sk-estimator:hover {background-color: #d4ebff;}#sk-container-id-1 div.sk-parallel-item::after {content: \"\";width: 100%;border-bottom: 1px solid gray;flex-grow: 1;}#sk-container-id-1 div.sk-label:hover label.sk-toggleable__label {background-color: #d4ebff;}#sk-container-id-1 div.sk-serial::before {content: \"\";position: absolute;border-left: 1px solid gray;box-sizing: border-box;top: 0;bottom: 0;left: 50%;z-index: 0;}#sk-container-id-1 div.sk-serial {display: flex;flex-direction: column;align-items: center;background-color: white;padding-right: 0.2em;padding-left: 0.2em;position: relative;}#sk-container-id-1 div.sk-item {position: relative;z-index: 1;}#sk-container-id-1 div.sk-parallel {display: flex;align-items: stretch;justify-content: center;background-color: white;position: relative;}#sk-container-id-1 div.sk-item::before, #sk-container-id-1 div.sk-parallel-item::before {content: \"\";position: absolute;border-left: 1px solid gray;box-sizing: border-box;top: 0;bottom: 0;left: 50%;z-index: -1;}#sk-container-id-1 div.sk-parallel-item {display: flex;flex-direction: column;z-index: 1;position: relative;background-color: white;}#sk-container-id-1 div.sk-parallel-item:first-child::after {align-self: flex-end;width: 50%;}#sk-container-id-1 div.sk-parallel-item:last-child::after {align-self: flex-start;width: 50%;}#sk-container-id-1 div.sk-parallel-item:only-child::after {width: 0;}#sk-container-id-1 div.sk-dashed-wrapped {border: 1px dashed gray;margin: 0 0.4em 0.5em 0.4em;box-sizing: border-box;padding-bottom: 0.4em;background-color: white;}#sk-container-id-1 div.sk-label label {font-family: monospace;font-weight: bold;display: inline-block;line-height: 1.2em;}#sk-container-id-1 div.sk-label-container {text-align: center;}#sk-container-id-1 div.sk-container {/* jupyter's `normalize.less` sets `[hidden] { display: none; }` but bootstrap.min.css set `[hidden] { display: none !important; }` so we also need the `!important` here to be able to override the default hidden behavior on the sphinx rendered scikit-learn.org. See: https://github.com/scikit-learn/scikit-learn/issues/21755 */display: inline-block !important;position: relative;}#sk-container-id-1 div.sk-text-repr-fallback {display: none;}</style><div id=\"sk-container-id-1\" class=\"sk-top-container\"><div class=\"sk-text-repr-fallback\"><pre>LinearRegression()</pre><b>In a Jupyter environment, please rerun this cell to show the HTML representation or trust the notebook. <br />On GitHub, the HTML representation is unable to render, please try loading this page with nbviewer.org.</b></div><div class=\"sk-container\" hidden><div class=\"sk-item\"><div class=\"sk-estimator sk-toggleable\"><input class=\"sk-toggleable__control sk-hidden--visually\" id=\"sk-estimator-id-1\" type=\"checkbox\" checked><label for=\"sk-estimator-id-1\" class=\"sk-toggleable__label sk-toggleable__label-arrow\">LinearRegression</label><div class=\"sk-toggleable__content\"><pre>LinearRegression()</pre></div></div></div></div></div>"
      ],
      "text/plain": [
       "LinearRegression()"
      ]
     },
     "execution_count": 25,
     "metadata": {},
     "output_type": "execute_result"
    }
   ],
   "source": [
    "clf = LinearRegression()\n",
    "\n",
    "clf.fit(X_train, y_train)"
   ]
  },
  {
   "cell_type": "code",
   "execution_count": 26,
   "id": "46918765",
   "metadata": {},
   "outputs": [
    {
     "name": "stdout",
     "output_type": "stream",
     "text": [
      "Coefficients: \n",
      " [ 1.40818243e+04  1.76287551e+04 -5.42877666e+05 -2.35519029e+05\n",
      " -4.30194662e+05 -4.57546217e+05 -2.71043986e+05 -4.40341026e+05\n",
      " -3.30691588e+05  3.31240598e+05 -8.40265803e+03  1.21735370e+04\n",
      "  1.26489877e+05 -2.09454134e+05  2.75676843e+04 -4.99623777e+04\n",
      " -1.07732504e+06 -2.62340399e+05 -3.13899367e+05 -8.89936682e+03\n",
      "  2.16533651e+06 -2.71043986e+05 -4.30194662e+05 -8.83714992e+04\n",
      "  1.03356396e+05  7.51397981e+04  4.35896416e+05 -4.19308484e+04\n",
      "  1.45519152e-10 -6.04972712e+04 -9.89530236e-10 -2.35519029e+05\n",
      " -3.38993191e+04 -7.88919956e+03 -8.83714992e+04 -3.38993191e+04\n",
      " -4.99623777e+04  7.54843349e+05 -1.79697737e+05 -2.98350000e+05\n",
      "  5.92947246e+05  3.31130901e+04  2.68315771e+04 -2.40901152e+05\n",
      " -9.83944681e+05  1.93514258e+05 -1.56863586e+06 -1.03344395e+06\n",
      "  9.39036990e+05]\n",
      "intercept 1535768.885613041\n",
      "Residual sum of squares test: 76418128601.04\n",
      "Residual sum of squares train: 79002544315.59\n",
      "La précision du modèle de regression est de 86.37 %\n"
     ]
    }
   ],
   "source": [
    "precision = clf.score(X_test, y_test)\n",
    "\n",
    "test_error = np.mean((clf.predict(X_test) - y_test) ** 2)\n",
    "\n",
    "train_error = np.mean((clf.predict(X_train) - y_train) ** 2)\n",
    "\n",
    "print('Coefficients: \\n', clf.coef_) # coefficients\n",
    "\n",
    "print ('intercept', clf.intercept_) # la constante\n",
    "\n",
    "print(\"Residual sum of squares test: %.2f\" % test_error) #Erreur quadratique moyenne\n",
    "\n",
    "print(\"Residual sum of squares train: %.2f\" % train_error) #Erreur quadratique moyenne\n",
    "\n",
    "print(\"La précision du modèle de regression est de\", np.round(precision * 100, 2), \"%\")"
   ]
  },
  {
   "cell_type": "code",
   "execution_count": 27,
   "id": "2e3c8c4c",
   "metadata": {},
   "outputs": [],
   "source": [
    "#coeff_parameter = pd.DataFrame(clf.coef_,df.columns[:-1],columns=['Coefficient'])\n",
    "#coeff_parameter"
   ]
  },
  {
   "cell_type": "markdown",
   "id": "b3931eec",
   "metadata": {},
   "source": [
    "## Prediction de nouvel observation"
   ]
  },
  {
   "cell_type": "code",
   "execution_count": 28,
   "id": "48514df3",
   "metadata": {},
   "outputs": [],
   "source": [
    "def resizedf(df):\n",
    "    df_ = pd.DataFrame(columns=df_codif.columns.tolist())\n",
    "    \n",
    "    for x in df_ :\n",
    "        if(x in df.columns):\n",
    "            df_.at[0,x] = df._get_value(0, x)\n",
    "        else :\n",
    "            df_.at[0,x] = False\n",
    "            \n",
    "    return df_ "
   ]
  },
  {
   "cell_type": "code",
   "execution_count": 29,
   "id": "f13dd795",
   "metadata": {},
   "outputs": [],
   "source": [
    "def prediction(INPUT, clf):\n",
    "    \n",
    "    df_new = pd.DataFrame(data = INPUT, columns=variables)  \n",
    "\n",
    "    #Codification\n",
    "    df_codif_new = pd.get_dummies(data=df_new)\n",
    "    \n",
    "    #Redefinition de dataFrame\n",
    "    new_X = resizedf(df_codif_new)\n",
    "    \n",
    "    #Normalisation des données\n",
    "    new_X = normalisation(new_X)\n",
    "    \n",
    "    y_predited = clf.predict(new_X)\n",
    "    \n",
    "    return y_predited"
   ]
  },
  {
   "cell_type": "markdown",
   "id": "9aa3938f",
   "metadata": {},
   "source": [
    "# Prediction de nouvel information via l'interface d'utilisateur"
   ]
  },
  {
   "cell_type": "code",
   "execution_count": 30,
   "id": "3e60658a",
   "metadata": {},
   "outputs": [],
   "source": [
    "from tkinter import *\n",
    "from tkinter.ttk import *\n",
    "from tkinter import messagebox\n",
    "\n",
    "WIDTH = 30\n",
    "\n",
    "window = Tk()\n",
    "window.title(\"Prédiction de prix de bien immobilier\")\n",
    "window.geometry(\"820x470\")\n",
    "\n",
    "ctnrL = Frame(window, width=WIDTH)\n",
    "ctnrL.pack(fill='both', side='left', expand='True')\n",
    "\n",
    "ctnrR = Frame(window)\n",
    "ctnrR.pack(fill='both', side='right', expand='True')"
   ]
  },
  {
   "cell_type": "code",
   "execution_count": 31,
   "id": "5e35daed",
   "metadata": {},
   "outputs": [],
   "source": [
    "communes = list(df['COMMUNE'].unique())\n",
    "\n",
    "quartiers = list(df['QUARTIER'].unique())\n",
    "\n",
    "types_terrain =list(df['TYPE TERRAIN'].unique())\n",
    "\n",
    "types_sol =list(df['TYPE SOL'].unique())"
   ]
  },
  {
   "cell_type": "code",
   "execution_count": 32,
   "id": "91e1f669",
   "metadata": {},
   "outputs": [],
   "source": [
    "strCbEau = StringVar(value='Non')   \n",
    "strCbEtri = StringVar(value='Non')   \n",
    "strCbR = StringVar(value='Non') \n",
    "\n",
    "#IntLong = IntVar()\n",
    "#IntLarg = IntVar()"
   ]
  },
  {
   "cell_type": "code",
   "execution_count": 33,
   "id": "d49b9169",
   "metadata": {},
   "outputs": [],
   "source": [
    "lblPredict = Label(ctnrR, text=\"Prix de bien immobilier \", justify=\"left\", font=(\"Segoe UI\", 12))\n",
    "lblPredict.place(x = 0, y = 200)\n",
    "#lblPredict.pack()\n",
    "\n",
    "lbl1 = Label(ctnrL, text=\"Longeur\", anchor=\"w\", justify=\"left\", width = WIDTH, font=(\"Segoe UI\", 10))\n",
    "lbl1.pack(padx=2)\n",
    "txtLong = Entry(ctnrL, width = WIDTH, font=(\"Segoe UI\", 10))\n",
    "txtLong.pack(pady=5, padx=2)\n",
    "\n",
    "lbl1 = Label(ctnrL, text=\"Largeur\", anchor=\"w\", justify=\"left\", width = WIDTH, font=(\"Segoe UI\", 10))\n",
    "lbl1.pack()\n",
    "txtLarg = Entry(ctnrL, width = WIDTH, font=(\"Segoe UI\", 10))\n",
    "txtLarg.pack(pady=5, padx=2)\n",
    "\n",
    "ctnrRb = Frame(ctnrL,borderwidth = 1, width = WIDTH)\n",
    "ctnrRb.pack()\n",
    "\n",
    "chbEtri = Checkbutton(ctnrRb,\n",
    "                text='Electricité',\n",
    "             \n",
    "                variable = strCbEtri, \n",
    "                onvalue='Oui',\n",
    "                offvalue='Non')\n",
    "\n",
    "\n",
    "\n",
    "chbEtri.grid(row=0, column=0, pady=5, padx=2)\n",
    "\n",
    "chbEau = Checkbutton(ctnrRb,\n",
    "                text='Eau',\n",
    "          \n",
    "                variable = strCbEau, \n",
    "                onvalue='Oui',\n",
    "                offvalue='Non')\n",
    "\n",
    "chbEau.grid(row=0, column=1, pady=5, padx=2)\n",
    "\n",
    "chbRt = Checkbutton(ctnrRb,\n",
    "                text='Route',\n",
    "               \n",
    "                variable = strCbR, \n",
    "                onvalue='Oui',\n",
    "                offvalue='Non')\n",
    "\n",
    "chbRt.grid(row=0, column=2, pady=5, padx=2)\n",
    "\n",
    "lbl1 = Label(ctnrL, text=\"Commune *\", anchor=\"w\", justify=\"left\", width = WIDTH, font=(\"Segoe UI\", 10))\n",
    "lbl1.pack()\n",
    "cmbCommune = Combobox(ctnrL, values = communes, width = WIDTH, font=(\"Segoe UI\", 10))\n",
    "cmbCommune.pack(pady=5, padx=2)\n",
    "cmbCommune.current(0)\n",
    "\n",
    "lbl1 = Label(ctnrL, text=\"Qurtier *\", anchor=\"w\", justify=\"left\", width = WIDTH, font=(\"Segoe UI\", 10))\n",
    "lbl1.pack()\n",
    "cmbQuartier = Combobox(ctnrL, values = quartiers, width = WIDTH, font=(\"Segoe UI\", 10))\n",
    "cmbQuartier.pack(pady=5, padx=2)\n",
    "cmbQuartier.current(0)\n",
    "\n",
    "lbl1 = Label(ctnrL, text=\"Type Terrain *\", anchor=\"w\", justify=\"left\", width = WIDTH, font=(\"Segoe UI\", 10))\n",
    "lbl1.pack()\n",
    "cmbTypeT = Combobox(ctnrL, values = types_terrain, width = WIDTH, font=(\"Segoe UI\", 10))\n",
    "cmbTypeT.pack(pady=5, padx=2)\n",
    "cmbTypeT.current(0)\n",
    "\n",
    "lbl1 = Label(ctnrL, text=\"Nombre de maisons\", anchor=\"w\", justify=\"left\", width = WIDTH, font=(\"Segoe UI\", 10))\n",
    "lbl1.pack()\n",
    "txtNbreM = Entry(ctnrL, width = WIDTH, font=(\"Segoe UI\", 10))\n",
    "txtNbreM.pack(pady=5, padx=2)\n",
    "\n",
    "lbl1 = Label(ctnrL, text=\"Type Sol *\", anchor=\"w\", justify=\"left\" , width = WIDTH, font=(\"Segoe UI\", 10))\n",
    "lbl1.pack()\n",
    "cmbTypeS = Combobox(ctnrL, values = types_sol, width = WIDTH, font=(\"Segoe UI\", 10))\n",
    "cmbTypeS.pack(pady=5, padx=2)\n",
    "cmbTypeS.current(0)\n",
    "\n",
    "ctnrB = Frame(ctnrL,borderwidth = 1, width = WIDTH)\n",
    "ctnrB.pack(pady=5, padx=2)\n"
   ]
  },
  {
   "cell_type": "code",
   "execution_count": 34,
   "id": "7ae00231",
   "metadata": {},
   "outputs": [],
   "source": [
    "def predict_method():\n",
    "    \n",
    "    if(txtLong.get() ==\"\" or txtLarg.get() ==\"\" or txtNbreM.get() ==\"\"):\n",
    "        messagebox.showerror(\"Erreur\", \"Une erreur est survenue lors de la prediction\\nRassurez-vous d'avoir rempli tous champs.\")  \n",
    "    else:\n",
    "        X_new = [[cmbCommune.get(), \n",
    "                  cmbQuartier.get(), \n",
    "                  int(txtLong.get()), \n",
    "                  int(txtLarg.get()),\n",
    "                  strCbEtri.get(), \n",
    "                  strCbEau.get(), \n",
    "                  cmbTypeT.get(), \n",
    "                  float(txtNbreM.get()), \n",
    "                  cmbTypeS.get(), \n",
    "                  strCbR.get()      \n",
    "            ]]\n",
    "\n",
    "        predict = prediction(X_new, clf)\n",
    "        \n",
    "        lblPredict.config(text=\"Prix de bien immobilier = \"+ str(round(predict[0], 2)) + \" $\")"
   ]
  },
  {
   "cell_type": "code",
   "execution_count": 35,
   "id": "49c00a0b",
   "metadata": {},
   "outputs": [],
   "source": [
    "def cancel_method():\n",
    "    if(txtLong.get() != \"\"):\n",
    "        txtLong.delete(0, END)\n",
    "    \n",
    "    if(txtLarg.get() !=\"\"):\n",
    "        txtLarg.delete(0, END)\n",
    "       \n",
    "    if(txtNbreM.get() !=\"\"): \n",
    "        txtNbreM.delete(0, END)"
   ]
  },
  {
   "cell_type": "code",
   "execution_count": 36,
   "id": "19b07b4f",
   "metadata": {},
   "outputs": [],
   "source": [
    "btnPredict = Button(ctnrB , text = \"Predire\", command = predict_method)\n",
    "btnPredict.grid(row=0, column=0, pady=5, padx=0)\n",
    "\n",
    "btnCancel = Button(ctnrB , text = \"Annuler\", command = cancel_method)\n",
    "btnCancel.grid(row=0, column=1, pady=5, padx=5)"
   ]
  },
  {
   "cell_type": "code",
   "execution_count": 37,
   "id": "52cdb740",
   "metadata": {},
   "outputs": [],
   "source": [
    "window.mainloop()"
   ]
  },
  {
   "cell_type": "code",
   "execution_count": null,
   "id": "6faadb40",
   "metadata": {},
   "outputs": [],
   "source": []
  }
 ],
 "metadata": {
  "celltoolbar": "Raw Cell Format",
  "kernelspec": {
   "display_name": "Python 3 (ipykernel)",
   "language": "python",
   "name": "python3"
  },
  "language_info": {
   "codemirror_mode": {
    "name": "ipython",
    "version": 3
   },
   "file_extension": ".py",
   "mimetype": "text/x-python",
   "name": "python",
   "nbconvert_exporter": "python",
   "pygments_lexer": "ipython3",
   "version": "3.11.5"
  }
 },
 "nbformat": 4,
 "nbformat_minor": 5
}
